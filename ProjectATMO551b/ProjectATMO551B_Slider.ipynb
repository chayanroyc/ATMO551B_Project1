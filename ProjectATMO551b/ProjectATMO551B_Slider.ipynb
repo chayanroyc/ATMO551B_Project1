{
 "cells": [
  {
   "cell_type": "code",
   "execution_count": 1,
   "metadata": {},
   "outputs": [],
   "source": [
    "from scipy import *\n",
    "import numpy as np\n",
    "import matplotlib.pyplot as plt\n",
    "from ipywidgets import interact, FloatSlider, Dropdown, RadioButtons\n",
    "\n",
    "\n",
    "#plt.style.use(['science', 'no-latex', 'high-vis'])\n",
    "plt.rc('font', family='Arial')\n",
    "plt.rc('xtick', labelsize=18)\n",
    "plt.rc('ytick', labelsize=18)\n",
    "\n",
    "plt.rc('axes', labelsize=18, titlesize=16)\n",
    "\n",
    "plt.rcParams[\"ytick.major.size\"] = 10\n",
    "plt.rcParams[\"ytick.minor.size\"] = 5"
   ]
  },
  {
   "cell_type": "code",
   "execution_count": 2,
   "metadata": {},
   "outputs": [],
   "source": [
    "z = np.arange(0,51,1)\n",
    "\n",
    "y_rad = np.loadtxt('y_rad.dat').reshape(-1,1)\n",
    "\n",
    "h_rad = [np.loadtxt(f'h{i+1}_rad.dat') for i in range(10)]\n",
    "h_rad = np.array(h_rad)\n",
    "\n",
    "x_rad = np.loadtxt('x_rad.dat').reshape(-1,1)\n",
    "xb_rad1 = np.loadtxt('xb_rad1.dat').reshape(-1,1)\n",
    "xb_rad2 = np.loadtxt('xb_rad2.dat').reshape(-1,1)\n",
    "\n"
   ]
  },
  {
   "attachments": {},
   "cell_type": "markdown",
   "metadata": {},
   "source": [
    "$\n",
    "\\hat x_a = (H^T H)^{-1} R^{-1} y\n",
    "$"
   ]
  },
  {
   "cell_type": "code",
   "execution_count": 11,
   "metadata": {},
   "outputs": [
    {
     "data": {
      "application/vnd.jupyter.widget-view+json": {
       "model_id": "4292046f61c84922b96ad9b6d1a232c5",
       "version_major": 2,
       "version_minor": 0
      },
      "text/plain": [
       "interactive(children=(FloatSlider(value=5.0, description='ep', max=50.0, min=1.0, step=1.0), Output()), _dom_c…"
      ]
     },
     "metadata": {},
     "output_type": "display_data"
    },
    {
     "data": {
      "text/plain": [
       "<function __main__.plot_T(ep)>"
      ]
     },
     "execution_count": 11,
     "metadata": {},
     "output_type": "execute_result"
    }
   ],
   "source": [
    "# Case 4\n",
    "\n",
    "def plot_T(ep):\n",
    "\n",
    "    Eii = ep*y_rad/100\n",
    "    R = np.diag(Eii.squeeze()**2)\n",
    "\n",
    "    x_rad1 = ((np.linalg.inv(h_rad.T @ h_rad) @ h_rad.T) @ np.linalg.inv(R)) @ y_rad\n",
    "\n",
    "    fig = plt.figure(figsize=(8,8))\n",
    "    ax = fig.add_subplot(121)\n",
    "\n",
    "    ax.plot(x_rad,z,lw=2, label='True', c='b')\n",
    "    ax.plot(x_rad1,z,ls='-', label='Retrieval', c='r', marker='o', lw=0.8)\n",
    "\n",
    "    ax.set_xlabel('$T$ (K)',size=20)\n",
    "    ax.set_ylabel('$z$ (km)',size=20)\n",
    "    ax.set_title(f'$e_R$ = {ep:.0f}%')\n",
    "    ax.set_xlim(180,300)\n",
    "    ax.legend(prop=dict(size=20))\n",
    "\n",
    "\n",
    "    ax = fig.add_subplot(122)\n",
    "    ax.plot(x_rad1-x_rad,z,c='k')\n",
    "    ax.set_xlim(-50,50)\n",
    "    ax.set_xlabel('$T$ bias (K)', size=20)\n",
    "    ax.set_title(f'$e_R$ = {ep:.0f}%')\n",
    "    \n",
    "interact(plot_T, ep=FloatSlider(min=1, max=50, step=1, value=5))"
   ]
  },
  {
   "attachments": {},
   "cell_type": "markdown",
   "metadata": {},
   "source": [
    "$\n",
    "K = P_b H^T (R + HP_bH^T)^{-1} \\\\\n",
    "A = KH \\\\\n",
    "\\hat x_a = x_b + K(y - Hx_b)\n",
    "$\n"
   ]
  },
  {
   "cell_type": "code",
   "execution_count": 19,
   "metadata": {},
   "outputs": [
    {
     "data": {
      "application/vnd.jupyter.widget-view+json": {
       "model_id": "cedda69e99e4420ea035037cd9290351",
       "version_major": 2,
       "version_minor": 0
      },
      "text/plain": [
       "interactive(children=(FloatSlider(value=5.0, description='ep', max=99.0, min=1.0, step=1.0), FloatSlider(value…"
      ]
     },
     "metadata": {},
     "output_type": "display_data"
    },
    {
     "data": {
      "text/plain": [
       "<function __main__.plot_T(ep, sigmab, L, xb)>"
      ]
     },
     "execution_count": 19,
     "metadata": {},
     "output_type": "execute_result"
    }
   ],
   "source": [
    "def plot_T(ep,sigmab,L,xb):\n",
    "    #sigmab = 50\n",
    "    #L = 3\n",
    "\n",
    "    ep1 = ep*y_rad/100\n",
    "    R = np.diag(ep1.squeeze()**2)\n",
    "\n",
    "    Pb = np.full((51,51),0)\n",
    "\n",
    "    for i in range(51):\n",
    "        Pb[i,i] = sigmab**2\n",
    "        #print(i,i,end=' , ')\n",
    "        for j in range(i):\n",
    "            #print(i,j)\n",
    "            Pb[i,j] = (Pb[i,i]*Pb[j,j])**0.5 * np.exp(-((z[i] - z[j])**2/(L**2)))\n",
    "            #Pb[i,j] = sigmab**2 * np.exp(-((z[i] - z[j])**2/(L**2)))\n",
    "            Pb[j,i] = Pb[i,j]\n",
    "        \n",
    "    K = (Pb @ h_rad.T @ np.linalg.inv(R + h_rad @ Pb @ h_rad.T))\n",
    "    A = K @ h_rad\n",
    "\n",
    "    #xb = 260\n",
    "    xb = (np.ones(len(z))*xb).reshape(-1,1)\n",
    "\n",
    "    xa = xb + K @ (y_rad - h_rad @ xb)\n",
    "\n",
    "    fig = plt.figure(figsize=(12,8))\n",
    "    ax = fig.add_subplot(131)\n",
    "\n",
    "    ax.plot(xa,z,label='Analysis',ls='-',lw=2)\n",
    "    ax.plot(xb,z,label='Prior',ls='-')\n",
    "    ax.plot(x_rad,z,c='k',lw=1.5,ls='-',label='True')\n",
    "\n",
    "    ax.legend(prop=dict(size=14))\n",
    "\n",
    "    ax.set_xlabel('$T$ (K)',size=20)\n",
    "    ax.set_ylabel('$z$ (km)',size=20)\n",
    "\n",
    "    ax.set_title(f'Prior = Constant $X_b$\\n$e_R$ = {ep:0.0f}% \\t $\\sigma_b$ = {sigmab:0.0f} K')\n",
    "    ax.grid(lw=0.2,axis='y')\n",
    "    ax.set_xlim(180,300)\n",
    "\n",
    "\n",
    "    ax = fig.add_subplot(132)\n",
    "    ax.plot(xa-x_rad,z,label='Analysis',ls='-',lw=2)\n",
    "    ax.plot(xb-x_rad,z,label='Prior',ls='-')\n",
    "\n",
    "    ax.legend(prop=dict(size=14))\n",
    "\n",
    "    ax.set_xlabel('$T$ bias (K)',size=20)\n",
    "    ax.set_title(f'Prior = Constant $X_b$\\n$e_R$ = {ep:0.0f}% \\t $\\sigma_b$ = {sigmab:0.0f} K')\n",
    "    ax.grid(lw=0.2,axis='y')\n",
    "    ax.set_xlim(-50,50)\n",
    "    ax.axvline(0,c='k',lw=0.3, ls='--')\n",
    "\n",
    "\n",
    "    ax = fig.add_subplot(133)\n",
    "    colors = plt.cm.turbo(np.linspace(0,1,10))\n",
    "    for i in np.arange(0,10,1):\n",
    "        ii = int(i * 5)\n",
    "        ax.plot(A[ii,:],z,\n",
    "                c=colors[i],label=ii+1,lw=1)\n",
    "    ax.legend(prop=dict(size=12))\n",
    "    ax.grid(lw=0.2,axis='y')\n",
    "    ax.set_xlabel('Averaging Kernel', size=20)\n",
    "\n",
    "    #print(Pb[0,0])\n",
    "\n",
    "interact(plot_T, \n",
    "         ep = FloatSlider(min=1,max=99,step=1,value=5),\n",
    "         sigmab=FloatSlider(min=1, max=100, step=1, value=50), \n",
    "         L=FloatSlider(min=1,step=1,max=50,value=3),\n",
    "         xb = FloatSlider(min=190,max=290,step=2,value=260),)\n"
   ]
  },
  {
   "cell_type": "code",
   "execution_count": 20,
   "metadata": {},
   "outputs": [
    {
     "data": {
      "application/vnd.jupyter.widget-view+json": {
       "model_id": "7d41ba0a81d6421f9aff794fde1e9371",
       "version_major": 2,
       "version_minor": 0
      },
      "text/plain": [
       "interactive(children=(FloatSlider(value=5.0, description='ep', max=99.0, min=1.0, step=1.0), FloatSlider(value…"
      ]
     },
     "metadata": {},
     "output_type": "display_data"
    },
    {
     "data": {
      "text/plain": [
       "<function __main__.plot_T(ep, sigmab, L, xbn=1)>"
      ]
     },
     "execution_count": 20,
     "metadata": {},
     "output_type": "execute_result"
    }
   ],
   "source": [
    "def plot_T(ep,sigmab,L,xbn=1):\n",
    "    #sigmab = 50\n",
    "    #L = 3\n",
    "    \n",
    "    ep1 = ep*y_rad/100\n",
    "    R = np.diag(ep1.squeeze()**2)\n",
    "\n",
    "    Pb = np.full((51,51),0)\n",
    "\n",
    "    for i in range(51):\n",
    "        Pb[i,i] = sigmab**2\n",
    "        #print(i,i,end=' , ')\n",
    "        for j in range(i):\n",
    "            #print(i,j)\n",
    "            Pb[i,j] = (Pb[i,i]*Pb[j,j])**0.5 * np.exp(-((z[i] - z[j])**2/(L**2)))\n",
    "            #Pb[i,j] = sigmab**2 * np.exp(-((z[i] - z[j])**2/(L**2)))\n",
    "            Pb[j,i] = Pb[i,j]\n",
    "        \n",
    "    K = (Pb @ h_rad.T @ np.linalg.inv(R + h_rad @ Pb @ h_rad.T))\n",
    "    A = K @ h_rad\n",
    "\n",
    "    #xb = 260\n",
    "    #xb = xb_rad1\n",
    "\n",
    "    xb = xb_rad1\n",
    "    \n",
    "    if xbn ==1:\n",
    "        xb = xb_rad1\n",
    "    elif xbn == 2:\n",
    "        xb = xb_rad2\n",
    "\n",
    "    xa = xb + K @ (y_rad - h_rad @ xb)\n",
    "\n",
    "    fig = plt.figure(figsize=(12,8))\n",
    "    ax = fig.add_subplot(131)\n",
    "\n",
    "    ax.plot(xa,z,label='Analysis',ls='-',lw=2)\n",
    "    ax.plot(xb,z,label='Prior',ls='-')\n",
    "    ax.plot(x_rad,z,c='k',lw=1.5,ls='-',label='True')\n",
    "\n",
    "    ax.legend(prop=dict(size=14))\n",
    "\n",
    "    ax.set_xlabel('$T$ (K)',size=20)\n",
    "    ax.set_ylabel('$z$ (km)',size=20)\n",
    "\n",
    "    ax.set_title(f'Prior = $Xb_{xbn}$\\n$e_R$ = {ep:0.0f}% \\t $\\sigma_b$ = {sigmab:0.0f} K')\n",
    "    ax.grid(lw=0.2,axis='y')\n",
    "    ax.set_xlim(180,300)\n",
    "\n",
    "\n",
    "    ax = fig.add_subplot(132)\n",
    "    ax.plot(xa-x_rad,z,label='Analysis',ls='-',lw=2)\n",
    "    ax.plot(xb-x_rad,z,label='Prior',ls='-')\n",
    "\n",
    "    ax.legend(prop=dict(size=14))\n",
    "\n",
    "    ax.set_xlabel('$T$ bias (K)',size=20)\n",
    "    ax.set_title(f'Prior = $Xb_{xbn}$\\n$e_R$ = {ep:0.0f}% \\t $\\sigma_b$ = {sigmab:0.0f} K')\n",
    "    ax.grid(lw=0.2,axis='y')\n",
    "    ax.set_xlim(-50,50)\n",
    "    ax.axvline(0,c='k',lw=0.3, ls='--')\n",
    "    #ax.set_xlim(180,300)\n",
    "\n",
    "\n",
    "    ax = fig.add_subplot(133)\n",
    "    colors = plt.cm.turbo(np.linspace(0,1,10))\n",
    "    for i in np.arange(0,10,1):\n",
    "        ii = int(i * 5)\n",
    "        ax.plot(A[ii,:],z,\n",
    "                c=colors[i],label=ii+1,lw=1)\n",
    "    ax.legend(prop=dict(size=12))\n",
    "    ax.grid(lw=0.2,axis='y')\n",
    "    ax.set_xlabel('Averaging Kernel', size=20)\n",
    "\n",
    "\n",
    "    #print(Pb[0,0])\n",
    "\n",
    "interact(plot_T,ep = FloatSlider(min=1,max=99,step=1,value=5),\n",
    "          sigmab=FloatSlider(min=1, max=100, step=1, value=50), L=FloatSlider(min=1,step=1,max=50,value=3),\n",
    "          xbn = RadioButtons(options=[1,2], description='Xb')\n",
    ")"
   ]
  }
 ],
 "metadata": {
  "kernelspec": {
   "display_name": "MyPangeo",
   "language": "python",
   "name": "mypangeo"
  },
  "language_info": {
   "codemirror_mode": {
    "name": "ipython",
    "version": 3
   },
   "file_extension": ".py",
   "mimetype": "text/x-python",
   "name": "python",
   "nbconvert_exporter": "python",
   "pygments_lexer": "ipython3",
   "version": "3.8.15"
  },
  "orig_nbformat": 4
 },
 "nbformat": 4,
 "nbformat_minor": 2
}
